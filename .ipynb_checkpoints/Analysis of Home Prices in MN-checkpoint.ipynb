{
 "cells": [
  {
   "cell_type": "markdown",
   "id": "b0906dab",
   "metadata": {},
   "source": [
    "# Zillow Data Analysis\n",
    "\n",
    "As a Minnesota resident and future home buyer, I spend a lot time on Zillow tracking home prices across different cities in my state. Zillow provides a large amount of information for each listing and I wanted a way to programatically collect this information so that I could dive deeper and create my own visualizations for the data.\n",
    "\n",
    "In order to accomplish this, I used the script ZillowScraper.py to gather lisiting data from 4 cities of interest:\n",
    "\n",
    "- Richfield\n",
    "- Woodbury\n",
    "- Minneapolis\n",
    "- Bloomington\n",
    "\n",
    "The questions that I hope to answer during the analysis portion of this project are:\n",
    "\n",
    "1. How does price vary by city in the dataset?\n",
    "2. Which variables have the strongest correlations with price?\n",
    "3. How many listings in each city have decreased the asking price? How much was the asking price decreased?\n",
    "4. Which cities have living spaces that cover the largest proportion of total lot size?"
   ]
  },
  {
   "cell_type": "markdown",
   "id": "b1fc520b",
   "metadata": {},
   "source": [
    "## Initial Imports/Cleaning"
   ]
  },
  {
   "cell_type": "code",
   "execution_count": 1,
   "id": "f85d84cc",
   "metadata": {},
   "outputs": [
    {
     "name": "stdout",
     "output_type": "stream",
     "text": [
      "(719, 40)\n"
     ]
    }
   ],
   "source": [
    "import pandas as pd\n",
    "pd.options.mode.chained_assignment = None  # default='warn'\n",
    "\n",
    "\n",
    "# Reading in csv's from the Zillow Scrapes\n",
    "richfield_homes = pd.read_csv('data/richfield_final.csv')\n",
    "woodbury_homes = pd.read_csv('data/woodbury_final.csv')\n",
    "minneapolis_homes = pd.read_csv('data/minneapolis_final.csv')\n",
    "bloomington_homes = pd.read_csv('data/bloomington_final.csv')\n",
    "\n",
    "bloomington_homes['city'] = 'Bloomington'\n",
    "woodbury_homes['city'] = woodbury_homes['city'].str.replace('Saint Paul' , 'Woodbury')\n",
    "\n",
    "# concatenating the dataframes\n",
    "all_homes = pd.concat([richfield_homes , woodbury_homes , minneapolis_homes , bloomington_homes])\n",
    "print(all_homes.shape)"
   ]
  },
  {
   "cell_type": "code",
   "execution_count": 2,
   "id": "6e5ac395",
   "metadata": {},
   "outputs": [],
   "source": [
    "# saving the concatenated df\n",
    "all_homes.to_csv('data/all_homes.csv')"
   ]
  },
  {
   "cell_type": "code",
   "execution_count": 3,
   "id": "c4a1cc17",
   "metadata": {},
   "outputs": [],
   "source": [
    "# Reducing dataframe to the columns we will use for modeling\n",
    "all_homes_df = all_homes[['city' , 'price' , 'bathrooms', 'bedrooms' , 'homeType' , 'livingArea' , 'priceChange'  , 'lotAreaValue' ,'lotAreaUnit']]"
   ]
  },
  {
   "cell_type": "markdown",
   "id": "1e1b49c4",
   "metadata": {},
   "source": [
    "### Convert acre to sqft\n",
    "Using the conversion of 1 acre = 43,560 sqft, I'll convert 'lotAreaValue' based on the value in 'lotAreaUnit'"
   ]
  },
  {
   "cell_type": "code",
   "execution_count": 4,
   "id": "7fea86ba",
   "metadata": {},
   "outputs": [
    {
     "data": {
      "text/plain": [
       "sqft     477\n",
       "acres    201\n",
       "Name: lotAreaUnit, dtype: int64"
      ]
     },
     "execution_count": 4,
     "metadata": {},
     "output_type": "execute_result"
    }
   ],
   "source": [
    "all_homes_df['lotAreaUnit'].value_counts()"
   ]
  },
  {
   "cell_type": "code",
   "execution_count": 5,
   "id": "b07b6143",
   "metadata": {},
   "outputs": [
    {
     "data": {
      "text/html": [
       "<div>\n",
       "<style scoped>\n",
       "    .dataframe tbody tr th:only-of-type {\n",
       "        vertical-align: middle;\n",
       "    }\n",
       "\n",
       "    .dataframe tbody tr th {\n",
       "        vertical-align: top;\n",
       "    }\n",
       "\n",
       "    .dataframe thead th {\n",
       "        text-align: right;\n",
       "    }\n",
       "</style>\n",
       "<table border=\"1\" class=\"dataframe\">\n",
       "  <thead>\n",
       "    <tr style=\"text-align: right;\">\n",
       "      <th></th>\n",
       "      <th>city</th>\n",
       "      <th>price</th>\n",
       "      <th>bathrooms</th>\n",
       "      <th>bedrooms</th>\n",
       "      <th>homeType</th>\n",
       "      <th>livingArea</th>\n",
       "      <th>priceChange</th>\n",
       "      <th>lotAreaValue</th>\n",
       "      <th>lotAreaUnit</th>\n",
       "      <th>adj_lotAreaValue</th>\n",
       "    </tr>\n",
       "  </thead>\n",
       "  <tbody>\n",
       "    <tr>\n",
       "      <th>1</th>\n",
       "      <td>Richfield</td>\n",
       "      <td>275000</td>\n",
       "      <td>2.0</td>\n",
       "      <td>3.0</td>\n",
       "      <td>SINGLE_FAMILY</td>\n",
       "      <td>1675.0</td>\n",
       "      <td>NaN</td>\n",
       "      <td>0.26</td>\n",
       "      <td>acres</td>\n",
       "      <td>11325.6</td>\n",
       "    </tr>\n",
       "    <tr>\n",
       "      <th>6</th>\n",
       "      <td>Richfield</td>\n",
       "      <td>165000</td>\n",
       "      <td>2.0</td>\n",
       "      <td>2.0</td>\n",
       "      <td>CONDO</td>\n",
       "      <td>1190.0</td>\n",
       "      <td>NaN</td>\n",
       "      <td>3.78</td>\n",
       "      <td>acres</td>\n",
       "      <td>164656.8</td>\n",
       "    </tr>\n",
       "    <tr>\n",
       "      <th>10</th>\n",
       "      <td>Richfield</td>\n",
       "      <td>257500</td>\n",
       "      <td>2.0</td>\n",
       "      <td>2.0</td>\n",
       "      <td>TOWNHOUSE</td>\n",
       "      <td>1320.0</td>\n",
       "      <td>-7500.0</td>\n",
       "      <td>0.49</td>\n",
       "      <td>acres</td>\n",
       "      <td>21344.4</td>\n",
       "    </tr>\n",
       "    <tr>\n",
       "      <th>11</th>\n",
       "      <td>Richfield</td>\n",
       "      <td>164900</td>\n",
       "      <td>1.0</td>\n",
       "      <td>1.0</td>\n",
       "      <td>CONDO</td>\n",
       "      <td>758.0</td>\n",
       "      <td>-5000.0</td>\n",
       "      <td>2.13</td>\n",
       "      <td>acres</td>\n",
       "      <td>92782.8</td>\n",
       "    </tr>\n",
       "    <tr>\n",
       "      <th>14</th>\n",
       "      <td>Richfield</td>\n",
       "      <td>120000</td>\n",
       "      <td>1.0</td>\n",
       "      <td>1.0</td>\n",
       "      <td>CONDO</td>\n",
       "      <td>610.0</td>\n",
       "      <td>NaN</td>\n",
       "      <td>1.27</td>\n",
       "      <td>acres</td>\n",
       "      <td>55321.2</td>\n",
       "    </tr>\n",
       "  </tbody>\n",
       "</table>\n",
       "</div>"
      ],
      "text/plain": [
       "         city   price  bathrooms  bedrooms       homeType  livingArea  \\\n",
       "1   Richfield  275000        2.0       3.0  SINGLE_FAMILY      1675.0   \n",
       "6   Richfield  165000        2.0       2.0          CONDO      1190.0   \n",
       "10  Richfield  257500        2.0       2.0      TOWNHOUSE      1320.0   \n",
       "11  Richfield  164900        1.0       1.0          CONDO       758.0   \n",
       "14  Richfield  120000        1.0       1.0          CONDO       610.0   \n",
       "\n",
       "    priceChange  lotAreaValue lotAreaUnit  adj_lotAreaValue  \n",
       "1           NaN          0.26       acres           11325.6  \n",
       "6           NaN          3.78       acres          164656.8  \n",
       "10      -7500.0          0.49       acres           21344.4  \n",
       "11      -5000.0          2.13       acres           92782.8  \n",
       "14          NaN          1.27       acres           55321.2  "
      ]
     },
     "execution_count": 5,
     "metadata": {},
     "output_type": "execute_result"
    }
   ],
   "source": [
    "import numpy as np\n",
    "\n",
    "# Creating list of conditions\n",
    "conditions = [\n",
    "    all_homes_df['lotAreaUnit'] == 'sqft',\n",
    "    all_homes_df['lotAreaUnit'] == 'acres'\n",
    "]\n",
    "\n",
    "# Creating list of values to map to\n",
    "values = [\n",
    "    all_homes_df['lotAreaValue'] ,\n",
    "    all_homes_df['lotAreaValue'] * 43560\n",
    "]\n",
    "\n",
    "all_homes_df['adj_lotAreaValue'] = np.select(conditions , values)\n",
    "all_homes_df[all_homes_df['lotAreaUnit'] == 'acres'].head()"
   ]
  },
  {
   "cell_type": "markdown",
   "id": "13284fb9",
   "metadata": {},
   "source": [
    "After this conversion, I no longer need the 'lotAreaValue' or 'lotAreaUnit' fields for my analysis"
   ]
  },
  {
   "cell_type": "code",
   "execution_count": 6,
   "id": "83794011",
   "metadata": {},
   "outputs": [],
   "source": [
    "all_homes_df.drop(['lotAreaValue' , 'lotAreaUnit'] , axis = 1 , inplace = True)"
   ]
  },
  {
   "cell_type": "markdown",
   "id": "24e34eee",
   "metadata": {},
   "source": [
    "### Setting pricechange 'missing values' to 0"
   ]
  },
  {
   "cell_type": "code",
   "execution_count": 7,
   "id": "5aa3a219",
   "metadata": {},
   "outputs": [],
   "source": [
    "all_homes_df.priceChange.fillna(value = 0 , inplace = True)"
   ]
  },
  {
   "cell_type": "markdown",
   "id": "2bc88553",
   "metadata": {},
   "source": [
    "### Dropping other missing values\n",
    "\n",
    "There are other missing values that I could impute but I've decided to only include what was scraped directly from Zillow to ensure data accuracy."
   ]
  },
  {
   "cell_type": "code",
   "execution_count": 8,
   "id": "75836b4a",
   "metadata": {},
   "outputs": [
    {
     "data": {
      "text/plain": [
       "(699, 8)"
      ]
     },
     "execution_count": 8,
     "metadata": {},
     "output_type": "execute_result"
    }
   ],
   "source": [
    "all_homes_df.dropna(inplace = True)\n",
    "all_homes_df.shape"
   ]
  },
  {
   "cell_type": "code",
   "execution_count": 9,
   "id": "fd47fcac",
   "metadata": {},
   "outputs": [
    {
     "data": {
      "text/plain": [
       "Minneapolis    400\n",
       "Woodbury       173\n",
       "Bloomington     86\n",
       "Richfield       40\n",
       "Name: city, dtype: int64"
      ]
     },
     "execution_count": 9,
     "metadata": {},
     "output_type": "execute_result"
    }
   ],
   "source": [
    "# Ensuring all cities are still represented in the dataset\n",
    "all_homes_df['city'] = all_homes_df['city'].str.replace('WOODBURY' , 'Woodbury')\n",
    "all_homes_df['city'].value_counts()"
   ]
  },
  {
   "cell_type": "markdown",
   "id": "21a86a24",
   "metadata": {},
   "source": [
    "### Home Type"
   ]
  },
  {
   "cell_type": "code",
   "execution_count": 10,
   "id": "ac43c4a5",
   "metadata": {},
   "outputs": [],
   "source": [
    "# Replacing values in homeType column\n",
    "\n",
    "all_homes_df['homeType'] = all_homes_df['homeType'].str.replace('SINGLE_FAMILY' , 'Single Family')\n",
    "all_homes_df['homeType'] = all_homes_df['homeType'].str.replace('CONDO' , 'Condo')\n",
    "all_homes_df['homeType'] = all_homes_df['homeType'].str.replace('MULTI_FAMILY' , 'Multi-Family')\n",
    "all_homes_df['homeType'] = all_homes_df['homeType'].str.replace('TOWNHOUSE' , 'Townhouse')\n"
   ]
  },
  {
   "cell_type": "code",
   "execution_count": 11,
   "id": "fb2da6de",
   "metadata": {},
   "outputs": [
    {
     "data": {
      "text/plain": [
       "Single Family    465\n",
       "Condo            100\n",
       "Townhouse         90\n",
       "Multi-Family      44\n",
       "Name: homeType, dtype: int64"
      ]
     },
     "execution_count": 11,
     "metadata": {},
     "output_type": "execute_result"
    }
   ],
   "source": [
    "all_homes_df['homeType'].value_counts()"
   ]
  },
  {
   "cell_type": "code",
   "execution_count": 12,
   "id": "2b44e825",
   "metadata": {},
   "outputs": [
    {
     "data": {
      "text/html": [
       "<div>\n",
       "<style scoped>\n",
       "    .dataframe tbody tr th:only-of-type {\n",
       "        vertical-align: middle;\n",
       "    }\n",
       "\n",
       "    .dataframe tbody tr th {\n",
       "        vertical-align: top;\n",
       "    }\n",
       "\n",
       "    .dataframe thead th {\n",
       "        text-align: right;\n",
       "    }\n",
       "</style>\n",
       "<table border=\"1\" class=\"dataframe\">\n",
       "  <thead>\n",
       "    <tr style=\"text-align: right;\">\n",
       "      <th></th>\n",
       "      <th>city</th>\n",
       "      <th>price</th>\n",
       "      <th>bathrooms</th>\n",
       "      <th>bedrooms</th>\n",
       "      <th>homeType</th>\n",
       "      <th>livingArea</th>\n",
       "      <th>priceChange</th>\n",
       "      <th>adj_lotAreaValue</th>\n",
       "    </tr>\n",
       "  </thead>\n",
       "  <tbody>\n",
       "    <tr>\n",
       "      <th>0</th>\n",
       "      <td>Richfield</td>\n",
       "      <td>439000</td>\n",
       "      <td>2.0</td>\n",
       "      <td>4.0</td>\n",
       "      <td>Single Family</td>\n",
       "      <td>1932.0</td>\n",
       "      <td>-11000.0</td>\n",
       "      <td>10018.80</td>\n",
       "    </tr>\n",
       "    <tr>\n",
       "      <th>1</th>\n",
       "      <td>Richfield</td>\n",
       "      <td>275000</td>\n",
       "      <td>2.0</td>\n",
       "      <td>3.0</td>\n",
       "      <td>Single Family</td>\n",
       "      <td>1675.0</td>\n",
       "      <td>0.0</td>\n",
       "      <td>11325.60</td>\n",
       "    </tr>\n",
       "    <tr>\n",
       "      <th>2</th>\n",
       "      <td>Richfield</td>\n",
       "      <td>229900</td>\n",
       "      <td>2.0</td>\n",
       "      <td>3.0</td>\n",
       "      <td>Single Family</td>\n",
       "      <td>1591.0</td>\n",
       "      <td>-20100.0</td>\n",
       "      <td>5662.80</td>\n",
       "    </tr>\n",
       "    <tr>\n",
       "      <th>3</th>\n",
       "      <td>Richfield</td>\n",
       "      <td>300000</td>\n",
       "      <td>1.0</td>\n",
       "      <td>3.0</td>\n",
       "      <td>Single Family</td>\n",
       "      <td>1178.0</td>\n",
       "      <td>-15000.0</td>\n",
       "      <td>7840.80</td>\n",
       "    </tr>\n",
       "    <tr>\n",
       "      <th>4</th>\n",
       "      <td>Richfield</td>\n",
       "      <td>299900</td>\n",
       "      <td>2.0</td>\n",
       "      <td>3.0</td>\n",
       "      <td>Single Family</td>\n",
       "      <td>1177.0</td>\n",
       "      <td>-20000.0</td>\n",
       "      <td>8276.40</td>\n",
       "    </tr>\n",
       "    <tr>\n",
       "      <th>...</th>\n",
       "      <td>...</td>\n",
       "      <td>...</td>\n",
       "      <td>...</td>\n",
       "      <td>...</td>\n",
       "      <td>...</td>\n",
       "      <td>...</td>\n",
       "      <td>...</td>\n",
       "      <td>...</td>\n",
       "    </tr>\n",
       "    <tr>\n",
       "      <th>85</th>\n",
       "      <td>Bloomington</td>\n",
       "      <td>495000</td>\n",
       "      <td>3.0</td>\n",
       "      <td>4.0</td>\n",
       "      <td>Single Family</td>\n",
       "      <td>3273.0</td>\n",
       "      <td>-15000.0</td>\n",
       "      <td>10890.00</td>\n",
       "    </tr>\n",
       "    <tr>\n",
       "      <th>86</th>\n",
       "      <td>Bloomington</td>\n",
       "      <td>495000</td>\n",
       "      <td>2.0</td>\n",
       "      <td>4.0</td>\n",
       "      <td>Single Family</td>\n",
       "      <td>3376.0</td>\n",
       "      <td>0.0</td>\n",
       "      <td>0.26</td>\n",
       "    </tr>\n",
       "    <tr>\n",
       "      <th>87</th>\n",
       "      <td>Bloomington</td>\n",
       "      <td>549900</td>\n",
       "      <td>5.0</td>\n",
       "      <td>4.0</td>\n",
       "      <td>Single Family</td>\n",
       "      <td>3678.0</td>\n",
       "      <td>0.0</td>\n",
       "      <td>13503.60</td>\n",
       "    </tr>\n",
       "    <tr>\n",
       "      <th>88</th>\n",
       "      <td>Bloomington</td>\n",
       "      <td>575000</td>\n",
       "      <td>4.0</td>\n",
       "      <td>4.0</td>\n",
       "      <td>Single Family</td>\n",
       "      <td>3130.0</td>\n",
       "      <td>-20000.0</td>\n",
       "      <td>20473.20</td>\n",
       "    </tr>\n",
       "    <tr>\n",
       "      <th>89</th>\n",
       "      <td>Bloomington</td>\n",
       "      <td>600000</td>\n",
       "      <td>4.0</td>\n",
       "      <td>4.0</td>\n",
       "      <td>Single Family</td>\n",
       "      <td>4301.0</td>\n",
       "      <td>-50000.0</td>\n",
       "      <td>13503.60</td>\n",
       "    </tr>\n",
       "  </tbody>\n",
       "</table>\n",
       "<p>465 rows × 8 columns</p>\n",
       "</div>"
      ],
      "text/plain": [
       "           city   price  bathrooms  bedrooms       homeType  livingArea  \\\n",
       "0     Richfield  439000        2.0       4.0  Single Family      1932.0   \n",
       "1     Richfield  275000        2.0       3.0  Single Family      1675.0   \n",
       "2     Richfield  229900        2.0       3.0  Single Family      1591.0   \n",
       "3     Richfield  300000        1.0       3.0  Single Family      1178.0   \n",
       "4     Richfield  299900        2.0       3.0  Single Family      1177.0   \n",
       "..          ...     ...        ...       ...            ...         ...   \n",
       "85  Bloomington  495000        3.0       4.0  Single Family      3273.0   \n",
       "86  Bloomington  495000        2.0       4.0  Single Family      3376.0   \n",
       "87  Bloomington  549900        5.0       4.0  Single Family      3678.0   \n",
       "88  Bloomington  575000        4.0       4.0  Single Family      3130.0   \n",
       "89  Bloomington  600000        4.0       4.0  Single Family      4301.0   \n",
       "\n",
       "    priceChange  adj_lotAreaValue  \n",
       "0      -11000.0          10018.80  \n",
       "1           0.0          11325.60  \n",
       "2      -20100.0           5662.80  \n",
       "3      -15000.0           7840.80  \n",
       "4      -20000.0           8276.40  \n",
       "..          ...               ...  \n",
       "85     -15000.0          10890.00  \n",
       "86          0.0              0.26  \n",
       "87          0.0          13503.60  \n",
       "88     -20000.0          20473.20  \n",
       "89     -50000.0          13503.60  \n",
       "\n",
       "[465 rows x 8 columns]"
      ]
     },
     "execution_count": 12,
     "metadata": {},
     "output_type": "execute_result"
    }
   ],
   "source": [
    "# Limiting the analyis to Single Family\n",
    "all_homes_df = all_homes_df[(all_homes_df['homeType'] == 'Single Family')]\n",
    "all_homes_df"
   ]
  },
  {
   "cell_type": "markdown",
   "id": "7c2b25f1",
   "metadata": {},
   "source": [
    "### Price outliers"
   ]
  },
  {
   "cell_type": "code",
   "execution_count": 13,
   "id": "a88f444a",
   "metadata": {},
   "outputs": [
    {
     "data": {
      "text/plain": [
       "<AxesSubplot:xlabel='price'>"
      ]
     },
     "execution_count": 13,
     "metadata": {},
     "output_type": "execute_result"
    },
    {
     "data": {
      "image/png": "[encoded data removed]",
      "text/plain": [
       "<Figure size 432x288 with 1 Axes>"
      ]
     },
     "metadata": {
      "needs_background": "light"
     },
     "output_type": "display_data"
    }
   ],
   "source": [
    "import seaborn as sns\n",
    "import matplotlib.pyplot as plt\n",
    "\n",
    "sns.boxplot(x = 'price' ,  data = all_homes_df)"
   ]
  },
  {
   "cell_type": "markdown",
   "id": "915f31a3",
   "metadata": {},
   "source": [
    "As expected, there are many houses with outlier prices. Including these in the analysis would not make sense, especially if I were looking to eventually build a model."
   ]
  },
  {
   "cell_type": "code",
   "execution_count": 14,
   "id": "b70db814",
   "metadata": {},
   "outputs": [],
   "source": [
    "# Finding outliers using the IQR method\n",
    "q_25_price , q_75_price = all_homes_df['price'].quantile([0.25,0.75])\n",
    "outlier_threshold_min = q_25_price - (1.5 * (q_75_price - q_25_price))\n",
    "outlier_threshold_max = q_75_price + (1.5 * (q_75_price - q_25_price))\n",
    "\n",
    "all_homes_df = all_homes_df[(all_homes_df['price'] > outlier_threshold_min) & (all_homes_df['price'] < outlier_threshold_max)]"
   ]
  },
  {
   "cell_type": "markdown",
   "id": "5821e0bf",
   "metadata": {},
   "source": [
    "## Data Analysis"
   ]
  },
  {
   "cell_type": "code",
   "execution_count": 48,
   "id": "c11c34b1",
   "metadata": {},
   "outputs": [],
   "source": [
    "# creating the color pallete\n",
    "palette = ['#8BAB82','#9888C3' ,'#DD8C6E' , '#98ACB5']"
   ]
  },
  {
   "cell_type": "markdown",
   "id": "8359d47d",
   "metadata": {},
   "source": [
    "### How does price vary by city in the dataset?"
   ]
  },
  {
   "cell_type": "code",
   "execution_count": 49,
   "id": "ec7d4b14",
   "metadata": {
    "scrolled": false
   },
   "outputs": [
    {
     "data": {
      "text/plain": [
       "''"
      ]
     },
     "execution_count": 49,
     "metadata": {},
     "output_type": "execute_result"
    },
    {
     "data": {
      "image/png": "[encoded data removed]",
      "text/plain": [
       "<Figure size 1440x504 with 2 Axes>"
      ]
     },
     "metadata": {
      "needs_background": "light"
     },
     "output_type": "display_data"
    }
   ],
   "source": [
    "import seaborn as sns\n",
    "import matplotlib.pyplot as plt\n",
    "\n",
    "fig , ax = plt.subplots(1,2, figsize = (20,7))\n",
    "\n",
    "# Count plot for number of homes per city\n",
    "sns.countplot(x = 'city' , data = all_homes_df , ax = ax[0] , order = all_homes_df.city.value_counts().index , color = '#8BAB82')\n",
    "ax[0].set_title('Number of Homes Available' , size = 15)\n",
    "ax[0].set_ylabel('')\n",
    "ax[0].set_xlabel('')\n",
    "\n",
    "# Boxplot showing the price distribution across each city\n",
    "sns.boxplot(x = 'price' , y = 'city' , data = all_homes_df , ax = ax[1] , palette = palette)\n",
    "ax[1].set_title('Price Distribution by City' , size = 15)\n",
    "ax[1].set_ylabel('')\n",
    "ax[1].set_xlabel('' , size = 10)\n",
    "ax[1].set_xticks([200000,400000,600000,800000,1000000])\n",
    "ax[1].set_xticklabels(['200K' , '400K' , '600K' , '800K' , '1M'] , size = 12)\n",
    "\n",
    "fig.suptitle('Prices for Single-Family Homes', fontsize=20)\n",
    ";\n"
   ]
  },
  {
   "cell_type": "code",
   "execution_count": 50,
   "id": "3d0a8897",
   "metadata": {},
   "outputs": [
    {
     "name": "stdout",
     "output_type": "stream",
     "text": [
      "The median price for homes in Richfield is 328250.0\n",
      "The median price for homes in Woodbury is 599990.0\n",
      "The median price for homes in Minneapolis is 329945.0\n",
      "The median price for homes in Bloomington is 385000.0\n"
     ]
    }
   ],
   "source": [
    "for city in all_homes_df['city'].unique():\n",
    "    print(f'The median price for homes in {city} is {all_homes_df[all_homes_df[\"city\"] == city][\"price\"].median()}')"
   ]
  },
  {
   "cell_type": "markdown",
   "id": "cef3b023",
   "metadata": {},
   "source": [
    "Woodbury has the highest median price of all the cities in this dataset. It's not surprising that the distribution for Minneapolis has such a wide range as price differences are often seen at the neighborhood level."
   ]
  },
  {
   "cell_type": "markdown",
   "id": "667785ef",
   "metadata": {},
   "source": [
    "#### ANOVA Test\n",
    "The assumptions for an ANOVA  are:\n",
    "1. The responses for each factor level have a normal population distribution.\n",
    "2. The distributions have the same variance.\n",
    "3. The data are independent.\n"
   ]
  },
  {
   "cell_type": "code",
   "execution_count": 51,
   "id": "ea5fd39e",
   "metadata": {},
   "outputs": [
    {
     "data": {
      "text/plain": [
       "<AxesSubplot:xlabel='sqrt_price', ylabel='city'>"
      ]
     },
     "execution_count": 51,
     "metadata": {},
     "output_type": "execute_result"
    },
    {
     "data": {
      "image/png": "[encoded data removed]",
      "text/plain": [
       "<Figure size 1440x504 with 2 Axes>"
      ]
     },
     "metadata": {
      "needs_background": "light"
     },
     "output_type": "display_data"
    }
   ],
   "source": [
    "# Taking the sqrt of price for a more normal distribution\n",
    "fig , ax = plt.subplots(1 , 2 , figsize = (20,7))\n",
    "all_homes_df['sqrt_price'] = np.sqrt(all_homes_df.price)\n",
    "all_homes_df['sqrt_price'].hist(ax = ax[0])\n",
    "\n",
    "# Plotting within city distributions\n",
    "sns.boxplot(x = 'sqrt_price' , y = 'city' , data = all_homes_df , ax = ax[1])\n"
   ]
  },
  {
   "cell_type": "code",
   "execution_count": 52,
   "id": "4d31937e",
   "metadata": {},
   "outputs": [
    {
     "data": {
      "text/plain": [
       "1.0283073684272294e-07"
      ]
     },
     "execution_count": 52,
     "metadata": {},
     "output_type": "execute_result"
    }
   ],
   "source": [
    "from scipy.stats import levene\n",
    "# Levene Test equal variance\n",
    "richfield_sqrt_prices = all_homes_df[all_homes_df['city'] == 'Richfield']['sqrt_price'].values\n",
    "woodbury_sqrt_prices = all_homes_df[all_homes_df['city'] == 'Woodbury']['sqrt_price'].values\n",
    "minneaplis_sqrt_prices = all_homes_df[all_homes_df['city'] == 'Minneapolis']['sqrt_price'].values\n",
    "bloomington_sqrt_prices = all_homes_df[all_homes_df['city'] == 'Bloomington']['sqrt_price'].values\n",
    "\n",
    "# Levene Test\n",
    "stat , p = levene(richfield_sqrt_prices,woodbury_sqrt_prices, minneaplis_sqrt_prices, bloomington_sqrt_prices)\n",
    "p"
   ]
  },
  {
   "cell_type": "markdown",
   "id": "01e8268e",
   "metadata": {},
   "source": [
    "The small p-value suggests that the populations do not have equal variances. I cannot perform a traditional ANOVA test and will resort to Welch's ANOVA, an alternative to one-way ANOVA when the equal variance assumption is violated."
   ]
  },
  {
   "cell_type": "markdown",
   "id": "840fec7d",
   "metadata": {},
   "source": [
    "#### Welch's ANOVA\n"
   ]
  },
  {
   "cell_type": "code",
   "execution_count": 53,
   "id": "e806d62d",
   "metadata": {},
   "outputs": [
    {
     "data": {
      "text/html": [
       "<div>\n",
       "<style scoped>\n",
       "    .dataframe tbody tr th:only-of-type {\n",
       "        vertical-align: middle;\n",
       "    }\n",
       "\n",
       "    .dataframe tbody tr th {\n",
       "        vertical-align: top;\n",
       "    }\n",
       "\n",
       "    .dataframe thead th {\n",
       "        text-align: right;\n",
       "    }\n",
       "</style>\n",
       "<table border=\"1\" class=\"dataframe\">\n",
       "  <thead>\n",
       "    <tr style=\"text-align: right;\">\n",
       "      <th></th>\n",
       "      <th>Source</th>\n",
       "      <th>ddof1</th>\n",
       "      <th>ddof2</th>\n",
       "      <th>F</th>\n",
       "      <th>p-unc</th>\n",
       "      <th>np2</th>\n",
       "    </tr>\n",
       "  </thead>\n",
       "  <tbody>\n",
       "    <tr>\n",
       "      <th>0</th>\n",
       "      <td>city</td>\n",
       "      <td>3</td>\n",
       "      <td>128.535105</td>\n",
       "      <td>106.360552</td>\n",
       "      <td>1.151352e-34</td>\n",
       "      <td>0.301402</td>\n",
       "    </tr>\n",
       "  </tbody>\n",
       "</table>\n",
       "</div>"
      ],
      "text/plain": [
       "  Source  ddof1       ddof2           F         p-unc       np2\n",
       "0   city      3  128.535105  106.360552  1.151352e-34  0.301402"
      ]
     },
     "execution_count": 53,
     "metadata": {},
     "output_type": "execute_result"
    }
   ],
   "source": [
    "import pingouin as pg\n",
    "\n",
    "# performing the test with a significance level of 0.05\n",
    "pg.welch_anova(dv= 'sqrt_price' , between = 'city' , data = all_homes_df)"
   ]
  },
  {
   "cell_type": "markdown",
   "id": "6236482d",
   "metadata": {},
   "source": [
    "The overall p-value from the table is less than 0.05 and we can reject the null hypothesis that the prices are equal between the 4 cities."
   ]
  },
  {
   "cell_type": "code",
   "execution_count": 30,
   "id": "6c24ce4f",
   "metadata": {},
   "outputs": [
    {
     "data": {
      "text/html": [
       "<div>\n",
       "<style scoped>\n",
       "    .dataframe tbody tr th:only-of-type {\n",
       "        vertical-align: middle;\n",
       "    }\n",
       "\n",
       "    .dataframe tbody tr th {\n",
       "        vertical-align: top;\n",
       "    }\n",
       "\n",
       "    .dataframe thead th {\n",
       "        text-align: right;\n",
       "    }\n",
       "</style>\n",
       "<table border=\"1\" class=\"dataframe\">\n",
       "  <thead>\n",
       "    <tr style=\"text-align: right;\">\n",
       "      <th></th>\n",
       "      <th>A</th>\n",
       "      <th>B</th>\n",
       "      <th>mean(A)</th>\n",
       "      <th>mean(B)</th>\n",
       "      <th>diff</th>\n",
       "      <th>se</th>\n",
       "      <th>T</th>\n",
       "      <th>df</th>\n",
       "      <th>pval</th>\n",
       "      <th>hedges</th>\n",
       "    </tr>\n",
       "  </thead>\n",
       "  <tbody>\n",
       "    <tr>\n",
       "      <th>0</th>\n",
       "      <td>Bloomington</td>\n",
       "      <td>Minneapolis</td>\n",
       "      <td>630.144757</td>\n",
       "      <td>597.323599</td>\n",
       "      <td>32.821158</td>\n",
       "      <td>15.569892</td>\n",
       "      <td>2.107989</td>\n",
       "      <td>118.296601</td>\n",
       "      <td>1.565319e-01</td>\n",
       "      <td>0.318645</td>\n",
       "    </tr>\n",
       "    <tr>\n",
       "      <th>1</th>\n",
       "      <td>Bloomington</td>\n",
       "      <td>Richfield</td>\n",
       "      <td>630.144757</td>\n",
       "      <td>575.212790</td>\n",
       "      <td>54.931967</td>\n",
       "      <td>15.683850</td>\n",
       "      <td>3.502454</td>\n",
       "      <td>80.969625</td>\n",
       "      <td>4.118899e-03</td>\n",
       "      <td>0.792794</td>\n",
       "    </tr>\n",
       "    <tr>\n",
       "      <th>2</th>\n",
       "      <td>Bloomington</td>\n",
       "      <td>Woodbury</td>\n",
       "      <td>630.144757</td>\n",
       "      <td>784.077071</td>\n",
       "      <td>-153.932314</td>\n",
       "      <td>15.331186</td>\n",
       "      <td>-10.040470</td>\n",
       "      <td>105.608871</td>\n",
       "      <td>0.000000e+00</td>\n",
       "      <td>-1.668623</td>\n",
       "    </tr>\n",
       "    <tr>\n",
       "      <th>3</th>\n",
       "      <td>Minneapolis</td>\n",
       "      <td>Richfield</td>\n",
       "      <td>597.323599</td>\n",
       "      <td>575.212790</td>\n",
       "      <td>22.110809</td>\n",
       "      <td>13.309497</td>\n",
       "      <td>1.661281</td>\n",
       "      <td>100.414907</td>\n",
       "      <td>3.495802e-01</td>\n",
       "      <td>0.320525</td>\n",
       "    </tr>\n",
       "    <tr>\n",
       "      <th>4</th>\n",
       "      <td>Minneapolis</td>\n",
       "      <td>Woodbury</td>\n",
       "      <td>597.323599</td>\n",
       "      <td>784.077071</td>\n",
       "      <td>-186.753472</td>\n",
       "      <td>12.892045</td>\n",
       "      <td>-14.485947</td>\n",
       "      <td>312.732143</td>\n",
       "      <td>0.000000e+00</td>\n",
       "      <td>-1.654933</td>\n",
       "    </tr>\n",
       "    <tr>\n",
       "      <th>5</th>\n",
       "      <td>Richfield</td>\n",
       "      <td>Woodbury</td>\n",
       "      <td>575.212790</td>\n",
       "      <td>784.077071</td>\n",
       "      <td>-208.864281</td>\n",
       "      <td>13.029445</td>\n",
       "      <td>-16.030175</td>\n",
       "      <td>85.058433</td>\n",
       "      <td>1.365574e-14</td>\n",
       "      <td>-3.280740</td>\n",
       "    </tr>\n",
       "  </tbody>\n",
       "</table>\n",
       "</div>"
      ],
      "text/plain": [
       "             A            B     mean(A)     mean(B)        diff         se  \\\n",
       "0  Bloomington  Minneapolis  630.144757  597.323599   32.821158  15.569892   \n",
       "1  Bloomington    Richfield  630.144757  575.212790   54.931967  15.683850   \n",
       "2  Bloomington     Woodbury  630.144757  784.077071 -153.932314  15.331186   \n",
       "3  Minneapolis    Richfield  597.323599  575.212790   22.110809  13.309497   \n",
       "4  Minneapolis     Woodbury  597.323599  784.077071 -186.753472  12.892045   \n",
       "5    Richfield     Woodbury  575.212790  784.077071 -208.864281  13.029445   \n",
       "\n",
       "           T          df          pval    hedges  \n",
       "0   2.107989  118.296601  1.565319e-01  0.318645  \n",
       "1   3.502454   80.969625  4.118899e-03  0.792794  \n",
       "2 -10.040470  105.608871  0.000000e+00 -1.668623  \n",
       "3   1.661281  100.414907  3.495802e-01  0.320525  \n",
       "4 -14.485947  312.732143  0.000000e+00 -1.654933  \n",
       "5 -16.030175   85.058433  1.365574e-14 -3.280740  "
      ]
     },
     "execution_count": 30,
     "metadata": {},
     "output_type": "execute_result"
    }
   ],
   "source": [
    "# Games-Howell post-hoc test to determine which group means are different\n",
    "pg.pairwise_gameshowell(dv='sqrt_price', between='city', data=all_homes_df)"
   ]
  },
  {
   "cell_type": "markdown",
   "id": "ec1385b1",
   "metadata": {},
   "source": [
    "The mean differences between Bloomington and Richfield , Bloomington and Woodbury , Minneapolis and Woodbury, and Richfield and Woodbury are statisticly significant (using a alpha = 0.05)."
   ]
  },
  {
   "cell_type": "markdown",
   "id": "205e2df1",
   "metadata": {},
   "source": [
    "### Which numeric variables correlate with price?"
   ]
  },
  {
   "cell_type": "code",
   "execution_count": 31,
   "id": "828ee5df",
   "metadata": {},
   "outputs": [
    {
     "data": {
      "text/plain": [
       "Text(0.5, 1.0, 'Correlation Heatmap')"
      ]
     },
     "execution_count": 31,
     "metadata": {},
     "output_type": "execute_result"
    },
    {
     "data": {
      "image/png": "[encoded data removed]",
      "text/plain": [
       "<Figure size 504x504 with 2 Axes>"
      ]
     },
     "metadata": {
      "needs_background": "light"
     },
     "output_type": "display_data"
    }
   ],
   "source": [
    "import numpy as np\n",
    "# Calcualting the correlation between the numeric variables\n",
    "corr = all_homes_df[['price', 'bathrooms', 'bedrooms', 'livingArea', 'adj_lotAreaValue']].corr()\n",
    "\n",
    "# upper triangle mask\n",
    "mask = np.triu(corr)\n",
    "\n",
    "plt.figure(figsize = (7,7))\n",
    "sns.heatmap(corr , annot = True , mask = mask)\n",
    "plt.title('Correlation Heatmap' , size =15)"
   ]
  },
  {
   "cell_type": "markdown",
   "id": "f11c0761",
   "metadata": {},
   "source": [
    "The number of bathrooms has a strong postive correlation with price (0.73) while the correlation between the number of bedrooms and price is more moderate(0.44). It's also interesting to see that the size of the living area (sqft of the house) has the highest positive correlation with price (0.79) but the size of the lot only has a correlation of 0.21.\n",
    "\n",
    "Other notable correlations:\n",
    "- Number of bathrooms is strongly correlated with the size of the living space.\n",
    "- Number of bedrooms is moderately correlated with the size of living space\n",
    "- Number of bathrooms is moderately correlated with the number of bedrooms"
   ]
  },
  {
   "cell_type": "code",
   "execution_count": 57,
   "id": "d28cf977",
   "metadata": {},
   "outputs": [
    {
     "data": {
      "text/plain": [
       "Text(0, 0.5, '')"
      ]
     },
     "execution_count": 57,
     "metadata": {},
     "output_type": "execute_result"
    },
    {
     "data": {
      "image/png": "[encoded data removed]",
      "text/plain": [
       "<Figure size 1440x504 with 2 Axes>"
      ]
     },
     "metadata": {
      "needs_background": "light"
     },
     "output_type": "display_data"
    }
   ],
   "source": [
    "fig , ax = plt.subplots(1,2 , figsize = (20 , 7))\n",
    "sns.scatterplot(x = 'livingArea' , y = 'price' , data = all_homes_df , ax = ax[0] , hue = 'city',palette = palette)\n",
    "ax[0].set_title('Living Area vs Price' , size = 15)\n",
    "ax[0].set_ylabel('Price')\n",
    "sns.scatterplot(x = 'bathrooms' , y = 'price' , data = all_homes_df , ax = ax[1], hue = 'city' , palette = palette)\n",
    "ax[1].set_title('Number of Bathrooms vs Price', size = 15)\n",
    "ax[1].set_ylabel('')"
   ]
  },
  {
   "cell_type": "markdown",
   "id": "5559aecf",
   "metadata": {},
   "source": [
    "### How many listings in each city have decreased the asking price? How much was the asking price decreased?"
   ]
  },
  {
   "cell_type": "code",
   "execution_count": 54,
   "id": "66674afd",
   "metadata": {},
   "outputs": [
    {
     "data": {
      "text/html": [
       "<div>\n",
       "<style scoped>\n",
       "    .dataframe tbody tr th:only-of-type {\n",
       "        vertical-align: middle;\n",
       "    }\n",
       "\n",
       "    .dataframe tbody tr th {\n",
       "        vertical-align: top;\n",
       "    }\n",
       "\n",
       "    .dataframe thead th {\n",
       "        text-align: right;\n",
       "    }\n",
       "</style>\n",
       "<table border=\"1\" class=\"dataframe\">\n",
       "  <thead>\n",
       "    <tr style=\"text-align: right;\">\n",
       "      <th></th>\n",
       "      <th>city</th>\n",
       "      <th>price</th>\n",
       "      <th>bathrooms</th>\n",
       "      <th>bedrooms</th>\n",
       "      <th>homeType</th>\n",
       "      <th>livingArea</th>\n",
       "      <th>priceChange</th>\n",
       "      <th>adj_lotAreaValue</th>\n",
       "      <th>price_change_map</th>\n",
       "      <th>living_space_proportion</th>\n",
       "    </tr>\n",
       "  </thead>\n",
       "  <tbody>\n",
       "    <tr>\n",
       "      <th>0</th>\n",
       "      <td>Richfield</td>\n",
       "      <td>439000</td>\n",
       "      <td>2.0</td>\n",
       "      <td>4.0</td>\n",
       "      <td>Single Family</td>\n",
       "      <td>1932.0</td>\n",
       "      <td>-11000.0</td>\n",
       "      <td>10018.8</td>\n",
       "      <td>Decreased Price</td>\n",
       "      <td>0.192837</td>\n",
       "    </tr>\n",
       "    <tr>\n",
       "      <th>1</th>\n",
       "      <td>Richfield</td>\n",
       "      <td>275000</td>\n",
       "      <td>2.0</td>\n",
       "      <td>3.0</td>\n",
       "      <td>Single Family</td>\n",
       "      <td>1675.0</td>\n",
       "      <td>0.0</td>\n",
       "      <td>11325.6</td>\n",
       "      <td>No Price Change</td>\n",
       "      <td>0.147895</td>\n",
       "    </tr>\n",
       "    <tr>\n",
       "      <th>2</th>\n",
       "      <td>Richfield</td>\n",
       "      <td>229900</td>\n",
       "      <td>2.0</td>\n",
       "      <td>3.0</td>\n",
       "      <td>Single Family</td>\n",
       "      <td>1591.0</td>\n",
       "      <td>-20100.0</td>\n",
       "      <td>5662.8</td>\n",
       "      <td>Decreased Price</td>\n",
       "      <td>0.280956</td>\n",
       "    </tr>\n",
       "    <tr>\n",
       "      <th>3</th>\n",
       "      <td>Richfield</td>\n",
       "      <td>300000</td>\n",
       "      <td>1.0</td>\n",
       "      <td>3.0</td>\n",
       "      <td>Single Family</td>\n",
       "      <td>1178.0</td>\n",
       "      <td>-15000.0</td>\n",
       "      <td>7840.8</td>\n",
       "      <td>Decreased Price</td>\n",
       "      <td>0.150240</td>\n",
       "    </tr>\n",
       "    <tr>\n",
       "      <th>4</th>\n",
       "      <td>Richfield</td>\n",
       "      <td>299900</td>\n",
       "      <td>2.0</td>\n",
       "      <td>3.0</td>\n",
       "      <td>Single Family</td>\n",
       "      <td>1177.0</td>\n",
       "      <td>-20000.0</td>\n",
       "      <td>8276.4</td>\n",
       "      <td>Decreased Price</td>\n",
       "      <td>0.142212</td>\n",
       "    </tr>\n",
       "  </tbody>\n",
       "</table>\n",
       "</div>"
      ],
      "text/plain": [
       "        city   price  bathrooms  bedrooms       homeType  livingArea  \\\n",
       "0  Richfield  439000        2.0       4.0  Single Family      1932.0   \n",
       "1  Richfield  275000        2.0       3.0  Single Family      1675.0   \n",
       "2  Richfield  229900        2.0       3.0  Single Family      1591.0   \n",
       "3  Richfield  300000        1.0       3.0  Single Family      1178.0   \n",
       "4  Richfield  299900        2.0       3.0  Single Family      1177.0   \n",
       "\n",
       "   priceChange  adj_lotAreaValue price_change_map  living_space_proportion  \n",
       "0     -11000.0           10018.8  Decreased Price                 0.192837  \n",
       "1          0.0           11325.6  No Price Change                 0.147895  \n",
       "2     -20100.0            5662.8  Decreased Price                 0.280956  \n",
       "3     -15000.0            7840.8  Decreased Price                 0.150240  \n",
       "4     -20000.0            8276.4  Decreased Price                 0.142212  "
      ]
     },
     "execution_count": 54,
     "metadata": {},
     "output_type": "execute_result"
    }
   ],
   "source": [
    "# Creating the mapper to map price change values to a string\n",
    "def price_change_mapper(price_change):\n",
    "    if price_change < 0:\n",
    "        return 'Decreased Price'\n",
    "    elif price_change > 0:\n",
    "        return 'Increased Price'\n",
    "    else:\n",
    "        return 'No Price Change'\n",
    "\n",
    "all_homes_df['price_change_map'] = all_homes_df['priceChange'].apply(price_change_mapper)\n",
    "all_homes_df.head()"
   ]
  },
  {
   "cell_type": "code",
   "execution_count": 56,
   "id": "e0f733df",
   "metadata": {},
   "outputs": [
    {
     "data": {
      "text/plain": [
       "''"
      ]
     },
     "execution_count": 56,
     "metadata": {},
     "output_type": "execute_result"
    },
    {
     "data": {
      "image/png": "[encoded data removed]",
      "text/plain": [
       "<Figure size 504x504 with 1 Axes>"
      ]
     },
     "metadata": {
      "needs_background": "light"
     },
     "output_type": "display_data"
    }
   ],
   "source": [
    "# Count plot for price changes across cities colored by price change (Increase, Decrease , No Change).\n",
    "plt.figure(figsize = (7, 7))\n",
    "sns.countplot(x = 'city' , hue = 'price_change_map' , data = all_homes_df , palette = palette , hue_order = ['Increased Price', 'No Price Change','Decreased Price'])\n",
    "plt.title('Price Changes for Single-Family Homes' , size = 15)\n",
    "plt.ylabel('Number of Homes')\n",
    "plt.xlabel('')\n",
    "plt.legend(bbox_to_anchor=(1.05, 1), loc='upper left', borderaxespad=0)\n",
    ";"
   ]
  },
  {
   "cell_type": "markdown",
   "id": "e19c8386",
   "metadata": {},
   "source": [
    "The price for a large portion of the homes in every city of this dataset has decreased from the original listing. Of course, not every decrease in price is of the same magnitude and it makes sense to look at the distribution of these price adjustments at the city level."
   ]
  },
  {
   "cell_type": "code",
   "execution_count": 57,
   "id": "b57d1eb1",
   "metadata": {},
   "outputs": [
    {
     "data": {
      "image/png": "[encoded data removed]",
      "text/plain": [
       "<Figure size 1440x576 with 2 Axes>"
      ]
     },
     "metadata": {
      "needs_background": "light"
     },
     "output_type": "display_data"
    }
   ],
   "source": [
    "fig , ax = plt.subplots(1 , 2, figsize = (20,8))\n",
    "\n",
    "# Subset the dataframe to only include homes with a price reduction\n",
    "price_decreased_subset = all_homes_df[all_homes_df['price_change_map'] == 'Decreased Price']\n",
    "\n",
    "# Count plot for the number of price reductions per city\n",
    "sns.countplot(x = 'city', data = price_decreased_subset ,  ax = ax[0] , color = '#DD8C6E' , order = price_decreased_subset.city.value_counts().index)\n",
    "ax[0].set_ylabel('')\n",
    "ax[0].set_xlabel('')\n",
    "ax[0].set_title('Number of Homes with Price Reductions' , size = 15)\n",
    "\n",
    "# Boxplot for price change across cities\n",
    "sns.boxplot(x = 'priceChange' , y = 'city' , palette = palette ,  data = price_decreased_subset , ax = ax[1])\n",
    "ax[1].set_title('Distribution of Price Reductions by City' , size = 15)\n",
    "ax[1].set_xlabel('')\n",
    "ax[1].set_ylabel('')\n",
    "\n",
    "fig.suptitle('Price Reductions for Single-Family Homes', fontsize=20);"
   ]
  },
  {
   "cell_type": "code",
   "execution_count": 60,
   "id": "2933984e",
   "metadata": {},
   "outputs": [
    {
     "data": {
      "text/plain": [
       "Minneapolis    132\n",
       "Woodbury        59\n",
       "Bloomington     31\n",
       "Richfield       19\n",
       "Name: city, dtype: int64"
      ]
     },
     "execution_count": 60,
     "metadata": {},
     "output_type": "execute_result"
    }
   ],
   "source": [
    "price_decreased_subset.city.value_counts()"
   ]
  },
  {
   "cell_type": "code",
   "execution_count": 42,
   "id": "9dca7350",
   "metadata": {},
   "outputs": [
    {
     "name": "stdout",
     "output_type": "stream",
     "text": [
      "The median price reduction for homes in Richfield is -15000.0\n",
      "The median price reduction for homes in Woodbury is -15000.0\n",
      "The median price reduction for homes in Minneapolis is -15000.0\n",
      "The median price reduction for homes in Bloomington is -15000.0\n"
     ]
    }
   ],
   "source": [
    "for city in price_decreased_subset['city'].unique():\n",
    "    print(f'The median price reduction for homes in {city} is {price_decreased_subset[price_decreased_subset[\"city\"] == city][\"priceChange\"].median()}')"
   ]
  },
  {
   "cell_type": "markdown",
   "id": "56f7b118",
   "metadata": {},
   "source": [
    "The median price reduction of around $15,000 does not vary much across different cities in the dataset."
   ]
  },
  {
   "cell_type": "markdown",
   "id": "8fc1276c",
   "metadata": {},
   "source": [
    "### Which cities have living spaces that cover the largest proportion of lot size?"
   ]
  },
  {
   "cell_type": "code",
   "execution_count": 43,
   "id": "556786ca",
   "metadata": {},
   "outputs": [],
   "source": [
    "# Creating a feature for living space size / lot size\n",
    "all_homes_df.reset_index(drop = True , inplace = True)\n",
    "all_homes_df['living_space_proportion'] = all_homes_df['livingArea'] / all_homes_df['adj_lotAreaValue']\n",
    "all_homes_df_prop = all_homes_df[all_homes_df['living_space_proportion'] < 1]"
   ]
  },
  {
   "cell_type": "code",
   "execution_count": 59,
   "id": "a01c597f",
   "metadata": {},
   "outputs": [
    {
     "data": {
      "text/plain": [
       "''"
      ]
     },
     "execution_count": 59,
     "metadata": {},
     "output_type": "execute_result"
    },
    {
     "data": {
      "image/png": "[encoded data removed]",
      "text/plain": [
       "<Figure size 1440x504 with 2 Axes>"
      ]
     },
     "metadata": {
      "needs_background": "light"
     },
     "output_type": "display_data"
    }
   ],
   "source": [
    "fig , ax = plt.subplots(1 , 2, figsize = (20,7))\n",
    "\n",
    "# Histogram to show the overall distribution of proportions\n",
    "sns.histplot(data = all_homes_df_prop, x = 'living_space_proportion' , ax = ax[0] , color = '#98ACB5')\n",
    "ax[0].set_xlabel('Proportion (living space/lot size)', size = 12)\n",
    "ax[0].set_ylabel('Number of Single-Family Homes' , size = 12)\n",
    "ax[0].set_title('Overall Distribution', size = 15)\n",
    "\n",
    "# Boxplots to show the distribution of proportions for each city\n",
    "sns.boxplot(x = 'living_space_proportion' , y = 'city' , data = all_homes_df_prop, palette = palette , ax = ax[1])\n",
    "ax[1].set_xlabel('Proportion (living space/lot size)', size = 12)\n",
    "ax[1].set_ylabel('')\n",
    "ax[1].set_title('Distribution by City' , size = 15)\n",
    "\n",
    "fig.suptitle('Proportion of Living Space to Lot Size for Single-Family Homes', fontsize=20)\n",
    ";"
   ]
  },
  {
   "cell_type": "markdown",
   "id": "f29412af",
   "metadata": {},
   "source": [
    "It makes sense to see that living spaces occupy a large proportion of lot size in the densely populated Minneapolis. On the other hand, Bloomington stands out as the city with the lowest median proportion of living space to lot size! The distribution of the proportions looks relatively normal with a slight right-skew."
   ]
  },
  {
   "cell_type": "code",
   "execution_count": null,
   "id": "ea2deaf6",
   "metadata": {},
   "outputs": [],
   "source": []
  }
 ],
 "metadata": {
  "kernelspec": {
   "display_name": "Python 3 (ipykernel)",
   "language": "python",
   "name": "python3"
  },
  "language_info": {
   "codemirror_mode": {
    "name": "ipython",
    "version": 3
   },
   "file_extension": ".py",
   "mimetype": "text/x-python",
   "name": "python",
   "nbconvert_exporter": "python",
   "pygments_lexer": "ipython3",
   "version": "3.8.8"
  }
 },
 "nbformat": 4,
 "nbformat_minor": 5
}
